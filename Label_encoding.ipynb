{
  "nbformat": 4,
  "nbformat_minor": 0,
  "metadata": {
    "colab": {
      "name": "Label encoding.ipynb",
      "provenance": [],
      "collapsed_sections": [],
      "authorship_tag": "ABX9TyNOx/0ACeqtacXGYROAT5cz",
      "include_colab_link": true
    },
    "kernelspec": {
      "name": "python3",
      "display_name": "Python 3"
    },
    "language_info": {
      "name": "python"
    }
  },
  "cells": [
    {
      "cell_type": "markdown",
      "metadata": {
        "id": "view-in-github",
        "colab_type": "text"
      },
      "source": [
        "<a href=\"https://colab.research.google.com/github/Rutuja-ctrl/rutuja/blob/main/Label_encoding.ipynb\" target=\"_parent\"><img src=\"https://colab.research.google.com/assets/colab-badge.svg\" alt=\"Open In Colab\"/></a>"
      ]
    },
    {
      "cell_type": "code",
      "execution_count": null,
      "metadata": {
        "id": "B7-bil089qlv"
      },
      "outputs": [],
      "source": [
        "import pandas as pd"
      ]
    },
    {
      "cell_type": "code",
      "source": [
        "import numpy as np"
      ],
      "metadata": {
        "id": "EkibU6sJ95jQ"
      },
      "execution_count": null,
      "outputs": []
    },
    {
      "cell_type": "code",
      "source": [
        "df=pd.read_csv(r'https://raw.githubusercontent.com/YBI-Foundation/Dataset/main/Customer%20Purchase.csv')"
      ],
      "metadata": {
        "id": "ZREJDBug990s"
      },
      "execution_count": null,
      "outputs": []
    },
    {
      "cell_type": "markdown",
      "source": [
        "**Get information of database**"
      ],
      "metadata": {
        "id": "w660Eb9--Kgy"
      }
    },
    {
      "cell_type": "code",
      "source": [
        "df.head()"
      ],
      "metadata": {
        "colab": {
          "base_uri": "https://localhost:8080/",
          "height": 206
        },
        "id": "aKgN_aOH-IJv",
        "outputId": "0cc8adfc-aa3c-414c-8a7e-bd55d368d9fe"
      },
      "execution_count": null,
      "outputs": [
        {
          "output_type": "execute_result",
          "data": {
            "text/plain": [
              "   Customer ID  Age  Gender Education   Review Purchased\n",
              "0         1021   30  Female    School  Average        No\n",
              "1         1022   68  Female        UG     Poor        No\n",
              "2         1023   70  Female        PG     Good        No\n",
              "3         1024   72  Female        PG     Good        No\n",
              "4         1025   16  Female        UG  Average        No"
            ],
            "text/html": [
              "\n",
              "  <div id=\"df-a5e5de3e-967f-42ef-8aa4-0ed56ba5053b\">\n",
              "    <div class=\"colab-df-container\">\n",
              "      <div>\n",
              "<style scoped>\n",
              "    .dataframe tbody tr th:only-of-type {\n",
              "        vertical-align: middle;\n",
              "    }\n",
              "\n",
              "    .dataframe tbody tr th {\n",
              "        vertical-align: top;\n",
              "    }\n",
              "\n",
              "    .dataframe thead th {\n",
              "        text-align: right;\n",
              "    }\n",
              "</style>\n",
              "<table border=\"1\" class=\"dataframe\">\n",
              "  <thead>\n",
              "    <tr style=\"text-align: right;\">\n",
              "      <th></th>\n",
              "      <th>Customer ID</th>\n",
              "      <th>Age</th>\n",
              "      <th>Gender</th>\n",
              "      <th>Education</th>\n",
              "      <th>Review</th>\n",
              "      <th>Purchased</th>\n",
              "    </tr>\n",
              "  </thead>\n",
              "  <tbody>\n",
              "    <tr>\n",
              "      <th>0</th>\n",
              "      <td>1021</td>\n",
              "      <td>30</td>\n",
              "      <td>Female</td>\n",
              "      <td>School</td>\n",
              "      <td>Average</td>\n",
              "      <td>No</td>\n",
              "    </tr>\n",
              "    <tr>\n",
              "      <th>1</th>\n",
              "      <td>1022</td>\n",
              "      <td>68</td>\n",
              "      <td>Female</td>\n",
              "      <td>UG</td>\n",
              "      <td>Poor</td>\n",
              "      <td>No</td>\n",
              "    </tr>\n",
              "    <tr>\n",
              "      <th>2</th>\n",
              "      <td>1023</td>\n",
              "      <td>70</td>\n",
              "      <td>Female</td>\n",
              "      <td>PG</td>\n",
              "      <td>Good</td>\n",
              "      <td>No</td>\n",
              "    </tr>\n",
              "    <tr>\n",
              "      <th>3</th>\n",
              "      <td>1024</td>\n",
              "      <td>72</td>\n",
              "      <td>Female</td>\n",
              "      <td>PG</td>\n",
              "      <td>Good</td>\n",
              "      <td>No</td>\n",
              "    </tr>\n",
              "    <tr>\n",
              "      <th>4</th>\n",
              "      <td>1025</td>\n",
              "      <td>16</td>\n",
              "      <td>Female</td>\n",
              "      <td>UG</td>\n",
              "      <td>Average</td>\n",
              "      <td>No</td>\n",
              "    </tr>\n",
              "  </tbody>\n",
              "</table>\n",
              "</div>\n",
              "      <button class=\"colab-df-convert\" onclick=\"convertToInteractive('df-a5e5de3e-967f-42ef-8aa4-0ed56ba5053b')\"\n",
              "              title=\"Convert this dataframe to an interactive table.\"\n",
              "              style=\"display:none;\">\n",
              "        \n",
              "  <svg xmlns=\"http://www.w3.org/2000/svg\" height=\"24px\"viewBox=\"0 0 24 24\"\n",
              "       width=\"24px\">\n",
              "    <path d=\"M0 0h24v24H0V0z\" fill=\"none\"/>\n",
              "    <path d=\"M18.56 5.44l.94 2.06.94-2.06 2.06-.94-2.06-.94-.94-2.06-.94 2.06-2.06.94zm-11 1L8.5 8.5l.94-2.06 2.06-.94-2.06-.94L8.5 2.5l-.94 2.06-2.06.94zm10 10l.94 2.06.94-2.06 2.06-.94-2.06-.94-.94-2.06-.94 2.06-2.06.94z\"/><path d=\"M17.41 7.96l-1.37-1.37c-.4-.4-.92-.59-1.43-.59-.52 0-1.04.2-1.43.59L10.3 9.45l-7.72 7.72c-.78.78-.78 2.05 0 2.83L4 21.41c.39.39.9.59 1.41.59.51 0 1.02-.2 1.41-.59l7.78-7.78 2.81-2.81c.8-.78.8-2.07 0-2.86zM5.41 20L4 18.59l7.72-7.72 1.47 1.35L5.41 20z\"/>\n",
              "  </svg>\n",
              "      </button>\n",
              "      \n",
              "  <style>\n",
              "    .colab-df-container {\n",
              "      display:flex;\n",
              "      flex-wrap:wrap;\n",
              "      gap: 12px;\n",
              "    }\n",
              "\n",
              "    .colab-df-convert {\n",
              "      background-color: #E8F0FE;\n",
              "      border: none;\n",
              "      border-radius: 50%;\n",
              "      cursor: pointer;\n",
              "      display: none;\n",
              "      fill: #1967D2;\n",
              "      height: 32px;\n",
              "      padding: 0 0 0 0;\n",
              "      width: 32px;\n",
              "    }\n",
              "\n",
              "    .colab-df-convert:hover {\n",
              "      background-color: #E2EBFA;\n",
              "      box-shadow: 0px 1px 2px rgba(60, 64, 67, 0.3), 0px 1px 3px 1px rgba(60, 64, 67, 0.15);\n",
              "      fill: #174EA6;\n",
              "    }\n",
              "\n",
              "    [theme=dark] .colab-df-convert {\n",
              "      background-color: #3B4455;\n",
              "      fill: #D2E3FC;\n",
              "    }\n",
              "\n",
              "    [theme=dark] .colab-df-convert:hover {\n",
              "      background-color: #434B5C;\n",
              "      box-shadow: 0px 1px 3px 1px rgba(0, 0, 0, 0.15);\n",
              "      filter: drop-shadow(0px 1px 2px rgba(0, 0, 0, 0.3));\n",
              "      fill: #FFFFFF;\n",
              "    }\n",
              "  </style>\n",
              "\n",
              "      <script>\n",
              "        const buttonEl =\n",
              "          document.querySelector('#df-a5e5de3e-967f-42ef-8aa4-0ed56ba5053b button.colab-df-convert');\n",
              "        buttonEl.style.display =\n",
              "          google.colab.kernel.accessAllowed ? 'block' : 'none';\n",
              "\n",
              "        async function convertToInteractive(key) {\n",
              "          const element = document.querySelector('#df-a5e5de3e-967f-42ef-8aa4-0ed56ba5053b');\n",
              "          const dataTable =\n",
              "            await google.colab.kernel.invokeFunction('convertToInteractive',\n",
              "                                                     [key], {});\n",
              "          if (!dataTable) return;\n",
              "\n",
              "          const docLinkHtml = 'Like what you see? Visit the ' +\n",
              "            '<a target=\"_blank\" href=https://colab.research.google.com/notebooks/data_table.ipynb>data table notebook</a>'\n",
              "            + ' to learn more about interactive tables.';\n",
              "          element.innerHTML = '';\n",
              "          dataTable['output_type'] = 'display_data';\n",
              "          await google.colab.output.renderOutput(dataTable, element);\n",
              "          const docLink = document.createElement('div');\n",
              "          docLink.innerHTML = docLinkHtml;\n",
              "          element.appendChild(docLink);\n",
              "        }\n",
              "      </script>\n",
              "    </div>\n",
              "  </div>\n",
              "  "
            ]
          },
          "metadata": {},
          "execution_count": 4
        }
      ]
    },
    {
      "cell_type": "code",
      "source": [
        "df.shape"
      ],
      "metadata": {
        "colab": {
          "base_uri": "https://localhost:8080/"
        },
        "id": "6aAXM_30-R1e",
        "outputId": "14dcb505-9f3f-41f5-e607-49f2df80c4ad"
      },
      "execution_count": null,
      "outputs": [
        {
          "output_type": "execute_result",
          "data": {
            "text/plain": [
              "(50, 6)"
            ]
          },
          "metadata": {},
          "execution_count": 5
        }
      ]
    },
    {
      "cell_type": "code",
      "source": [
        "df.columns"
      ],
      "metadata": {
        "colab": {
          "base_uri": "https://localhost:8080/"
        },
        "id": "fbt7lmGS-Z3a",
        "outputId": "720d47d9-5d01-4397-9b99-3add71e11efe"
      },
      "execution_count": null,
      "outputs": [
        {
          "output_type": "execute_result",
          "data": {
            "text/plain": [
              "Index(['Customer ID', 'Age', 'Gender', 'Education', 'Review', 'Purchased'], dtype='object')"
            ]
          },
          "metadata": {},
          "execution_count": 6
        }
      ]
    },
    {
      "cell_type": "code",
      "source": [
        "df.info"
      ],
      "metadata": {
        "colab": {
          "base_uri": "https://localhost:8080/"
        },
        "id": "1nEO0NXZ-bGx",
        "outputId": "baf578eb-934f-4e97-ac05-1956b0742c69"
      },
      "execution_count": null,
      "outputs": [
        {
          "output_type": "execute_result",
          "data": {
            "text/plain": [
              "<bound method DataFrame.info of     Customer ID  Age  Gender Education   Review Purchased\n",
              "0          1021   30  Female    School  Average        No\n",
              "1          1022   68  Female        UG     Poor        No\n",
              "2          1023   70  Female        PG     Good        No\n",
              "3          1024   72  Female        PG     Good        No\n",
              "4          1025   16  Female        UG  Average        No\n",
              "5          1026   31  Female    School  Average       Yes\n",
              "6          1027   18    Male    School     Good        No\n",
              "7          1028   60  Female    School     Poor       Yes\n",
              "8          1029   65  Female        UG  Average        No\n",
              "9          1030   74    Male        UG     Good       Yes\n",
              "10         1031   98  Female        UG     Good       Yes\n",
              "11         1032   74    Male        UG     Good       Yes\n",
              "12         1033   51    Male    School     Poor        No\n",
              "13         1034   57  Female    School  Average        No\n",
              "14         1035   15    Male        PG     Poor       Yes\n",
              "15         1036   75    Male        UG     Poor        No\n",
              "16         1037   59    Male        UG     Poor       Yes\n",
              "17         1038   22  Female        UG     Poor       Yes\n",
              "18         1039   19    Male    School     Good        No\n",
              "19         1040   97    Male        PG     Poor       Yes\n",
              "20         1041   57  Female    School  Average       Yes\n",
              "21         1042   32    Male        PG  Average        No\n",
              "22         1043   18  Female        PG     Poor       Yes\n",
              "23         1044   96  Female    School     Good        No\n",
              "24         1045   16  Female        PG  Average       Yes\n",
              "25         1046   57  Female    School     Good        No\n",
              "26         1047   53  Female        PG     Poor        No\n",
              "27         1048   69  Female        PG     Poor        No\n",
              "28         1049   48    Male    School     Poor        No\n",
              "29         1050   83  Female        UG  Average       Yes\n",
              "30         1051   73    Male        UG  Average        No\n",
              "31         1052   22  Female    School     Poor       Yes\n",
              "32         1053   92    Male        UG  Average       Yes\n",
              "33         1054   89  Female        PG     Good       Yes\n",
              "34         1055   86    Male    School  Average        No\n",
              "35         1056   74    Male    School     Poor       Yes\n",
              "36         1057   34  Female        UG     Good       Yes\n",
              "37         1058   94    Male        PG  Average       Yes\n",
              "38         1059   45  Female    School     Good        No\n",
              "39         1060   76    Male        PG     Poor        No\n",
              "40         1061   39    Male    School     Good        No\n",
              "41         1062   23    Male        PG     Good       Yes\n",
              "42         1063   30  Female        PG     Good       Yes\n",
              "43         1064   27    Male        PG     Poor        No\n",
              "44         1065   77  Female        UG  Average        No\n",
              "45         1066   61    Male        PG     Poor       Yes\n",
              "46         1067   64  Female        PG     Poor        No\n",
              "47         1068   38  Female        PG     Good       Yes\n",
              "48         1069   39  Female        UG     Good       Yes\n",
              "49         1070   25  Female        UG     Good        No>"
            ]
          },
          "metadata": {},
          "execution_count": 7
        }
      ]
    },
    {
      "cell_type": "markdown",
      "source": [
        "**Get the target variable (Y) seperated from Dataframe**\n",
        "\n",
        "\n"
      ],
      "metadata": {
        "id": "t52NwL-w-j5z"
      }
    },
    {
      "cell_type": "code",
      "source": [
        "y=df['Purchased']"
      ],
      "metadata": {
        "id": "2y-CAWjL-gCF"
      },
      "execution_count": null,
      "outputs": []
    },
    {
      "cell_type": "code",
      "source": [
        "y"
      ],
      "metadata": {
        "colab": {
          "base_uri": "https://localhost:8080/"
        },
        "id": "9JPWgru7-2lB",
        "outputId": "e5c0cb87-1083-4400-8ef4-b2636015acee"
      },
      "execution_count": null,
      "outputs": [
        {
          "output_type": "execute_result",
          "data": {
            "text/plain": [
              "0      No\n",
              "1      No\n",
              "2      No\n",
              "3      No\n",
              "4      No\n",
              "5     Yes\n",
              "6      No\n",
              "7     Yes\n",
              "8      No\n",
              "9     Yes\n",
              "10    Yes\n",
              "11    Yes\n",
              "12     No\n",
              "13     No\n",
              "14    Yes\n",
              "15     No\n",
              "16    Yes\n",
              "17    Yes\n",
              "18     No\n",
              "19    Yes\n",
              "20    Yes\n",
              "21     No\n",
              "22    Yes\n",
              "23     No\n",
              "24    Yes\n",
              "25     No\n",
              "26     No\n",
              "27     No\n",
              "28     No\n",
              "29    Yes\n",
              "30     No\n",
              "31    Yes\n",
              "32    Yes\n",
              "33    Yes\n",
              "34     No\n",
              "35    Yes\n",
              "36    Yes\n",
              "37    Yes\n",
              "38     No\n",
              "39     No\n",
              "40     No\n",
              "41    Yes\n",
              "42    Yes\n",
              "43     No\n",
              "44     No\n",
              "45    Yes\n",
              "46     No\n",
              "47    Yes\n",
              "48    Yes\n",
              "49     No\n",
              "Name: Purchased, dtype: object"
            ]
          },
          "metadata": {},
          "execution_count": 10
        }
      ]
    },
    {
      "cell_type": "markdown",
      "source": [
        "**Encode Categorical Features as an Integer Array**"
      ],
      "metadata": {
        "id": "kDc2GNhM_ERu"
      }
    },
    {
      "cell_type": "code",
      "source": [
        "\n",
        "from sklearn.preprocessing import LabelEncoder"
      ],
      "metadata": {
        "id": "VsBEn6jj_A5o"
      },
      "execution_count": null,
      "outputs": []
    },
    {
      "cell_type": "code",
      "source": [
        "le=LabelEncoder()"
      ],
      "metadata": {
        "id": "Wa3KbVlE_O0n"
      },
      "execution_count": null,
      "outputs": []
    },
    {
      "cell_type": "code",
      "source": [
        "y=le.fit_transform(y)"
      ],
      "metadata": {
        "id": "l-3sEmfP_f2_"
      },
      "execution_count": null,
      "outputs": []
    },
    {
      "cell_type": "code",
      "source": [
        "y"
      ],
      "metadata": {
        "colab": {
          "base_uri": "https://localhost:8080/"
        },
        "id": "6MwVMzuk_ttH",
        "outputId": "b70d8a22-8200-4fc7-dead-e93ae24ba5e0"
      },
      "execution_count": null,
      "outputs": [
        {
          "output_type": "execute_result",
          "data": {
            "text/plain": [
              "array([0, 0, 0, 0, 0, 1, 0, 1, 0, 1, 1, 1, 0, 0, 1, 0, 1, 1, 0, 1, 1, 0,\n",
              "       1, 0, 1, 0, 0, 0, 0, 1, 0, 1, 1, 1, 0, 1, 1, 1, 0, 0, 0, 1, 1, 0,\n",
              "       0, 1, 0, 1, 1, 0])"
            ]
          },
          "metadata": {},
          "execution_count": 16
        }
      ]
    },
    {
      "cell_type": "markdown",
      "source": [
        "**Display Encode Categories**"
      ],
      "metadata": {
        "id": "9oddQz9K_ycZ"
      }
    },
    {
      "cell_type": "code",
      "source": [
        "le.classes_"
      ],
      "metadata": {
        "colab": {
          "base_uri": "https://localhost:8080/"
        },
        "id": "WpZptTca_0Dn",
        "outputId": "6436ef96-1bd7-47f4-a2a3-84d32c9df85b"
      },
      "execution_count": null,
      "outputs": [
        {
          "output_type": "execute_result",
          "data": {
            "text/plain": [
              "array(['No', 'Yes'], dtype=object)"
            ]
          },
          "metadata": {},
          "execution_count": 18
        }
      ]
    },
    {
      "cell_type": "markdown",
      "source": [
        "**Reverse Encode Integer Array as Categorical Target Variable (Y) Label**"
      ],
      "metadata": {
        "id": "-s2Vl9dJAA2p"
      }
    },
    {
      "cell_type": "code",
      "source": [
        "le.inverse_transform([0, 0, 1, 1])"
      ],
      "metadata": {
        "colab": {
          "base_uri": "https://localhost:8080/"
        },
        "id": "bcEYp857_9PI",
        "outputId": "e90d535d-0a1f-4e24-a718-154244eb95fe"
      },
      "execution_count": null,
      "outputs": [
        {
          "output_type": "execute_result",
          "data": {
            "text/plain": [
              "array(['No', 'No', 'Yes', 'Yes'], dtype=object)"
            ]
          },
          "metadata": {},
          "execution_count": 19
        }
      ]
    }
  ]
}